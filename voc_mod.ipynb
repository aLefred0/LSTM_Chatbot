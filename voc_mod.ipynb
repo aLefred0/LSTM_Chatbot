{
 "cells": [
  {
   "cell_type": "code",
   "execution_count": null,
   "metadata": {},
   "outputs": [],
   "source": [
    "from gensim.test.utils import datapath, get_tmpfile\n",
    "from gensim.models import KeyedVectors\n",
    "import numpy as np"
   ]
  },
  {
   "cell_type": "code",
   "execution_count": null,
   "metadata": {},
   "outputs": [],
   "source": [
    "#loading word vectors for getting unkown words\n",
    "tmp_file = get_tmpfile(datapath(\"/home/al/Desktop/nnfl/new\"))\n",
    "word_model = KeyedVectors.load(tmp_file)"
   ]
  },
  {
   "cell_type": "code",
   "execution_count": null,
   "metadata": {},
   "outputs": [],
   "source": [
    "#list of words in word vectors\n",
    "data2= np.loadtxt('/home/al/Desktop/nnflproj/glove.6B.300d.txt',dtype=str,usecols=(0))"
   ]
  },
  {
   "cell_type": "code",
   "execution_count": null,
   "metadata": {},
   "outputs": [],
   "source": [
    "data4=np.loadtxt('/home/al/Desktop/nnflproj/glove.6B.300d.txt',dtype=float,usecols=(range(1,301)),skiprows=1)"
   ]
  },
  {
   "cell_type": "code",
   "execution_count": null,
   "metadata": {},
   "outputs": [],
   "source": [
    "word_to_ix2=dict(zip(data2,range(0,data2.shape[0])))\n",
    "ix_to_word2=dict(zip(range(0,data2.shape[0]),data2))\n",
    "a1=data4[word_to_ix2['is']]-data4[word_to_ix2['do']]+data4[word_to_ix2['did']]"
   ]
  },
  {
   "cell_type": "code",
   "execution_count": null,
   "metadata": {},
   "outputs": [],
   "source": [
    "l1=[]\n",
    "l2=[]\n",
    "for i in range(data2.shape[0]):\n",
    "    if data2[i] in ['was']:\n",
    "        l1+=[i]\n",
    "    else:\n",
    "        l2+=[i]"
   ]
  },
  {
   "cell_type": "code",
   "execution_count": null,
   "metadata": {},
   "outputs": [],
   "source": [
    "#creating vector for had\n",
    "is11=data4[word_to_ix2['has']]+data4[word_to_ix2['did']]-data4[word_to_ix2['do']]\n",
    "print(is11)"
   ]
  },
  {
   "cell_type": "code",
   "execution_count": null,
   "metadata": {},
   "outputs": [],
   "source": [
    "word_model.add(entities=data2[1765],weights=data4[1765],replace=True)"
   ]
  },
  {
   "cell_type": "code",
   "execution_count": null,
   "metadata": {},
   "outputs": [],
   "source": [
    "word_model.save('/home/al/Desktop/nnfl/new')"
   ]
  }
 ],
 "metadata": {
  "language_info": {
   "codemirror_mode": {
    "name": "ipython",
    "version": 3
   },
   "file_extension": ".py",
   "mimetype": "text/x-python",
   "name": "python",
   "nbconvert_exporter": "python",
   "pygments_lexer": "ipython3",
   "version": 3
  },
  "orig_nbformat": 2
 },
 "nbformat": 4,
 "nbformat_minor": 2
}