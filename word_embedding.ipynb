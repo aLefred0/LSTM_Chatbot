{
 "cells": [
  {
   "cell_type": "code",
   "execution_count": 1,
   "metadata": {},
   "outputs": [],
   "source": [
    "import tensorflow as tf\n",
    "import numpy as np\n",
    "from tensorflow import keras\n",
    "from tensorflow.keras import layers"
   ]
  },
  {
   "cell_type": "code",
   "execution_count": 2,
   "metadata": {},
   "outputs": [],
   "source": [
    "ds_path='/home/al/Desktop/nnflproj/glove.6B.100d.txt'\n",
    "data = np.loadtxt(ds_path,dtype=str,usecols=0)\n",
    "d2 = np.loadtxt(ds_path,dtype=float,usecols=range(1,101))\n",
    "#data = np.loadtxt(ds_path,dtype=str)\n",
    "d=data.reshape([399965,1])\n",
    "d=np.concatenate([d,d2],axis=1)\n"
   ]
  },
  {
   "cell_type": "code",
   "execution_count": 3,
   "metadata": {},
   "outputs": [],
   "source": [
    "num_words=399965"
   ]
  },
  {
   "cell_type": "code",
   "execution_count": 4,
   "metadata": {},
   "outputs": [],
   "source": [
    "word_to_ix=dict(zip(data,range(0,num_words+1)))\n",
    "ix_to_word=dict(zip(range(0,num_words+1),data))"
   ]
  },
  {
   "cell_type": "code",
   "execution_count": 43,
   "metadata": {},
   "outputs": [
    {
     "output_type": "stream",
     "name": "stdout",
     "text": "259981800000\n17\n18\n22\n23\n24\n30\n46\n49\n52\n54\n62\n65\n84\n90\n258681800000\n101\n107\n127\n259721800000\n259508600000\n259703600000\n257186800000\n147\n259576200000\n259953200000\n259669800000\n258057800000\n259763400000\n259612600000\n253\n260\n261\n259979200000\n259883000000\n259238200000\n259981800000\n"
    }
   ],
   "source": [
    "d_path='/home/al/Desktop/nnflproj/nds/nds-a'\n",
    "for e  in 'abcdefghijklmnopqrstuvwxyz':\n",
    "    print(2600000*i)\n",
    "    for f  in 'abcdefghijklmnopqrstuvwxyz':\n",
    "        \n",
    "        if e+f=='pg':\n",
    "            break\n",
    "        ds = np.loadtxt(d_path+e+f+'.csv',delimiter='\\n',dtype='str')\n",
    "        for i in range(1,ds.shape[0]):\n",
    "            w1=np.array(ds[i-1].lower().split())\n",
    "            w2=np.array(ds[i].lower().split())\n",
    "            w_sum=np.zeros([100,])\n",
    "            w2_sum=np.zeros([100,])\n",
    "            for w in w1:    \n",
    "                #try:\n",
    "                \n",
    "                if w=='<start>':\n",
    "                    continue\n",
    "                if w=='<end>':\n",
    "                    break\n",
    "                try:                \n",
    "                    w_sum+=d2[word_to_ix[w]]\n",
    "                except KeyError:\n",
    "                    continue\n",
    "            for w in w2: \n",
    "                if w=='<start>':\n",
    "                    continue\n",
    "                if w=='<end>':\n",
    "                    break\n",
    "                try:\n",
    "                    w2_sum+=d2[word_to_ix[w]]\n",
    "                except KeyError:\n",
    "                    continue\n",
    "            w_sum/=len(w1)\n",
    "            w2_sum/=len(w2)\n",
    "    if e+f=='pg':\n",
    "            break\n",
    "    \n",
    "        "
   ]
  },
  {
   "cell_type": "code",
   "execution_count": null,
   "metadata": {},
   "outputs": [],
   "source": [
    "#try using transformer instead of lstm"
   ]
  },
  {
   "cell_type": "code",
   "execution_count": 44,
   "metadata": {},
   "outputs": [],
   "source": []
  },
  {
   "cell_type": "code",
   "execution_count": null,
   "metadata": {},
   "outputs": [],
   "source": [
    "model = keras.Sequential()\n",
    "model.add(LSTM)\n",
    "model.add(LSTM)\n",
    "model.add(LSTM)\n",
    "model.add(LSTM)\n",
    "model.compile(loss)"
   ]
  }
 ],
 "metadata": {
  "language_info": {
   "codemirror_mode": {
    "name": "ipython",
    "version": 3
   },
   "file_extension": ".py",
   "mimetype": "text/x-python",
   "name": "python",
   "nbconvert_exporter": "python",
   "pygments_lexer": "ipython3",
   "version": "3.6.9-final"
  },
  "orig_nbformat": 2,
  "kernelspec": {
   "name": "python36964bit910a7e525ea849fca55756066482ff27",
   "display_name": "Python 3.6.9 64-bit"
  }
 },
 "nbformat": 4,
 "nbformat_minor": 2
}